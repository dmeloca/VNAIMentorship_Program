{
 "cells": [
  {
   "cell_type": "code",
   "execution_count": null,
   "metadata": {},
   "outputs": [
    {
     "ename": "",
     "evalue": "",
     "output_type": "error",
     "traceback": [
      "\u001b[1;31mRunning cells with 'to-do (Python 3.12.4)' requires the ipykernel package.\n",
      "\u001b[1;31mRun the following command to install 'ipykernel' into the Python environment. \n",
      "\u001b[1;31mCommand: 'conda install -n to-do ipykernel --update-deps --force-reinstall'"
     ]
    }
   ],
   "source": [
    "import numpy as np\n",
    "import graphviz as gv\n",
    "\n",
    "def sigmoid(x):\n",
    "    return 1.0/(1.0 + np.exp(-x))\n",
    "\n",
    "def relu(x):\n",
    "    return max(0, x)\n",
    "\n",
    "def predict(w, x):\n",
    "    a = np.zeros((3,))\n",
    "    a[2] = relu(np.dot(x,w[6:8]) + w[8])\n",
    "\n",
    "    a[1] = relu(np.dot(x,w[3:5]) + w[5])\n",
    "\n",
    "    a[0] = sigmoid(np.dot(a[1:3], w[0:2]) + w[2])\n",
    "    return a[0]\n",
    "\n",
    "def create_neural_network_graph(X, Y, w):\n",
    "    nn_graph = gv.Digraph('NeuralNetwork') ## graph title\n",
    "\n",
    "    for i, x in enumerate(X):\n",
    "        nn_graph.node(f'input1_{i}', f'Input 1: {x[0]}', shape='circle')\n",
    "        nn_graph.node(f'input2_{i}', f'Input 2: {x[1]}', shape='circle')\n",
    "\n",
    "        dot_product_1 = np.dot(x, w[3:5])\n",
    "        dot_product_2 = np.dot(x, w[6:8])\n",
    "\n",
    "        nn_graph.node(f'relu1_{i}', f'Weights: {w[3:5]}\\nDot product: {dot_product_1}\\nBias: {w[5]}\\nRELU : {relu(dot_product_1 + w[5])} ', shape='rectangle')\n",
    "        nn_graph.node(f'relu2_{i}', f'Weights: {w[6:8]}\\nDot product: {dot_product_1}\\nBias: {w[8]}\\nRELU : {relu(dot_product_1 + w[8])} ', shape='rectangle')\n",
    "\n",
    "\n",
    "\n",
    "        dot_product_3 = np.dot([relu(dot_product_1 + w[5]), relu(dot_product_2 + w[8])], w[0:2])\n",
    "        nn_graph.node(f'sigmoid_{i}', f'Weights: {w[0:2]}\\nDot product: {dot_product_3}\\nBias: {w[2]} \\nSigmoid: {sigmoid(dot_product_3 + w[2])}  ', shape='rectangle')\n",
    "\n",
    "\n",
    "\n",
    "        nn_graph.node(f'output_{i}', f'Output: {predict(w, x)} (actual: {Y[i]})', shape='circle')\n",
    "\n",
    "        nn_graph.edges([(f'input1_{i}', f'relu1_{i}'), (f'input1_{i}', f'relu2_{i}'), (f'input2_{i}', f'relu1_{i}'), (f'input2_{i}', f'relu2_{i}')])\n",
    "        nn_graph.edges([(f'relu1_{i}', f'sigmoid_{i}'), (f'relu2_{i}', f'sigmoid_{i}')])\n",
    "        nn_graph.edge(f'sigmoid_{i}', f'output_{i}')\n",
    "\n",
    "    return nn_graph\n",
    "\n",
    "\n",
    "w = np.array([1, 0, 0, 1, 0, 0, 1, 0, 0])\n",
    "##            (2weight)(2bias)(1aweight)(1abias)(1bweight)(1bbias)\n",
    "\n",
    "X = np.array([[0, 0], [0, 1], [1, 0], [1, 1]])\n",
    "\n",
    "Y = np.array([1, 0, 0, 1])\n",
    "\n",
    "nn_graph = create_neural_network_graph(X, Y, w)\n",
    "\n",
    "#nn_graph.render('neural_network_data_flow_with_weights.gv', view=True)\n",
    "print(nn_graph.source)"
   ]
  }
 ],
 "metadata": {
  "kernelspec": {
   "display_name": "graphviz",
   "language": "python",
   "name": "python3"
  },
  "language_info": {
   "codemirror_mode": {
    "name": "ipython",
    "version": 3
   },
   "file_extension": ".py",
   "mimetype": "text/x-python",
   "name": "python",
   "nbconvert_exporter": "python",
   "pygments_lexer": "ipython3",
   "version": "3.12.4"
  }
 },
 "nbformat": 4,
 "nbformat_minor": 2
}
